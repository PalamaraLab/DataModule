{
 "cells": [
  {
   "cell_type": "code",
   "execution_count": 1,
   "id": "lyric-writing",
   "metadata": {},
   "outputs": [],
   "source": [
    "import pathlib\n",
    "import numpy as np\n",
    "np.set_printoptions(threshold=10)\n",
    "\n",
    "from asmc_data_module import HapsMatrixType"
   ]
  },
  {
   "cell_type": "markdown",
   "id": "whole-capitol",
   "metadata": {},
   "source": [
    "## Create a HapsMatrixType object from haps/samples/map files"
   ]
  },
  {
   "cell_type": "code",
   "execution_count": 2,
   "id": "recorded-anger",
   "metadata": {},
   "outputs": [],
   "source": [
    "data_dir = pathlib.Path(\"..\").resolve() / 'test' / 'data' / 'haps_plus_samples'\n",
    "\n",
    "haps_file = data_dir / 'real_example.haps.gz'\n",
    "sample_file = data_dir / 'real_example.sample.gz'\n",
    "map_file = data_dir / 'real_example.map.gz'\n",
    "\n",
    "haps_mat = HapsMatrixType.createFromHapsPlusSamples(str(haps_file), str(sample_file), str(map_file))"
   ]
  },
  {
   "cell_type": "markdown",
   "id": "secret-column",
   "metadata": {},
   "source": [
    "## Query this object\n",
    "\n",
    "You can ask to:\n",
    "\n",
    "- getNumIndividuals()\n",
    "- getNumSites()\n",
    "- getPhysicalPositions(): this returns a python `list[int]`, copied from a C++ `std::vector<unsigned long>`\n",
    "- getGeneticPositions(): this returns a python `list[float]`, copied from a C++ `std::vector<double>`\n",
    "- getData(): this returns a numpy matrix by reference from an eigen matrix of type `uint8_t`\n",
    "- getSite(ind): this returns a numpy array by reference from an eigen row vector of type `uint8_t`\n",
    "- getHap(ind): this returns a numpy array by reference from an eigen column vector of type `uint8_t`\n",
    "- getIndividual(ind): this returns a numpy matrix by reference from an eigen matrix of two adjacent vectors, of type `uint8_t`\n"
   ]
  },
  {
   "cell_type": "code",
   "execution_count": 3,
   "id": "mechanical-saudi",
   "metadata": {},
   "outputs": [
    {
     "data": {
      "text/plain": [
       "50"
      ]
     },
     "execution_count": 3,
     "metadata": {},
     "output_type": "execute_result"
    }
   ],
   "source": [
    "haps_mat.getNumIndividuals()"
   ]
  },
  {
   "cell_type": "code",
   "execution_count": 4,
   "id": "twelve-ballet",
   "metadata": {},
   "outputs": [
    {
     "data": {
      "text/plain": [
       "102"
      ]
     },
     "execution_count": 4,
     "metadata": {},
     "output_type": "execute_result"
    }
   ],
   "source": [
    "haps_mat.getNumSites()"
   ]
  },
  {
   "cell_type": "code",
   "execution_count": 5,
   "id": "middle-dimension",
   "metadata": {},
   "outputs": [
    {
     "data": {
      "text/plain": [
       "102"
      ]
     },
     "execution_count": 5,
     "metadata": {},
     "output_type": "execute_result"
    }
   ],
   "source": [
    "len(haps_mat.getPhysicalPositions())"
   ]
  },
  {
   "cell_type": "code",
   "execution_count": 6,
   "id": "nominated-steps",
   "metadata": {},
   "outputs": [
    {
     "data": {
      "text/plain": [
       "102"
      ]
     },
     "execution_count": 6,
     "metadata": {},
     "output_type": "execute_result"
    }
   ],
   "source": [
    "len(haps_mat.getGeneticPositions())"
   ]
  },
  {
   "cell_type": "code",
   "execution_count": 7,
   "id": "ordered-commission",
   "metadata": {},
   "outputs": [
    {
     "data": {
      "text/plain": [
       "array([[0, 0, 0, ..., 0, 0, 0],\n",
       "       [1, 1, 1, ..., 1, 1, 1],\n",
       "       [0, 0, 0, ..., 0, 0, 0],\n",
       "       ...,\n",
       "       [1, 1, 1, ..., 1, 1, 0],\n",
       "       [0, 0, 0, ..., 0, 0, 1],\n",
       "       [0, 1, 1, ..., 1, 0, 0]], dtype=uint8)"
      ]
     },
     "execution_count": 7,
     "metadata": {},
     "output_type": "execute_result"
    }
   ],
   "source": [
    "haps_mat.getData()"
   ]
  },
  {
   "cell_type": "code",
   "execution_count": 8,
   "id": "educated-gothic",
   "metadata": {},
   "outputs": [
    {
     "name": "stdout",
     "output_type": "stream",
     "text": [
      "uint8\n",
      "(100,)\n"
     ]
    }
   ],
   "source": [
    "print(haps_mat.getSite(3).dtype)\n",
    "print(haps_mat.getSite(3).shape)"
   ]
  },
  {
   "cell_type": "code",
   "execution_count": 9,
   "id": "regulation-prisoner",
   "metadata": {},
   "outputs": [
    {
     "data": {
      "text/plain": [
       "array([0, 1, 1, ..., 1, 0, 1], dtype=uint8)"
      ]
     },
     "execution_count": 9,
     "metadata": {},
     "output_type": "execute_result"
    }
   ],
   "source": [
    "haps_mat.getHap(5)"
   ]
  },
  {
   "cell_type": "markdown",
   "id": "royal-youth",
   "metadata": {},
   "source": [
    "## Counts and frequencies\n",
    "\n",
    "You can get minor & derived allele counts and frequencies for specific sites, and for all sites.\n",
    "\n",
    "For instance:"
   ]
  },
  {
   "cell_type": "code",
   "execution_count": 10,
   "id": "passive-dividend",
   "metadata": {},
   "outputs": [
    {
     "data": {
      "text/plain": [
       "3"
      ]
     },
     "execution_count": 10,
     "metadata": {},
     "output_type": "execute_result"
    }
   ],
   "source": [
    "haps_mat.getMinorAlleleCount(5)"
   ]
  },
  {
   "cell_type": "code",
   "execution_count": 11,
   "id": "liable-moscow",
   "metadata": {},
   "outputs": [
    {
     "data": {
      "text/plain": [
       "array([ 1, 10,  2, ..., 26, 27, 41], dtype=uint64)"
      ]
     },
     "execution_count": 11,
     "metadata": {},
     "output_type": "execute_result"
    }
   ],
   "source": [
    "haps_mat.getMinorAlleleCounts()"
   ]
  },
  {
   "cell_type": "code",
   "execution_count": 12,
   "id": "greater-southwest",
   "metadata": {},
   "outputs": [
    {
     "data": {
      "text/plain": [
       "0.06"
      ]
     },
     "execution_count": 12,
     "metadata": {},
     "output_type": "execute_result"
    }
   ],
   "source": [
    "haps_mat.getDerivedAlleleFrequency(7)"
   ]
  },
  {
   "cell_type": "code",
   "execution_count": 13,
   "id": "concrete-robin",
   "metadata": {},
   "outputs": [
    {
     "data": {
      "text/plain": [
       "array([0.01, 0.1 , 0.02, ..., 0.26, 0.27, 0.41])"
      ]
     },
     "execution_count": 13,
     "metadata": {},
     "output_type": "execute_result"
    }
   ],
   "source": [
    "haps_mat.getMinorAlleleFrequencies()"
   ]
  }
 ],
 "metadata": {
  "kernelspec": {
   "display_name": "Python 3",
   "language": "python",
   "name": "python3"
  },
  "language_info": {
   "codemirror_mode": {
    "name": "ipython",
    "version": 3
   },
   "file_extension": ".py",
   "mimetype": "text/x-python",
   "name": "python",
   "nbconvert_exporter": "python",
   "pygments_lexer": "ipython3",
   "version": "3.8.5"
  }
 },
 "nbformat": 4,
 "nbformat_minor": 5
}
