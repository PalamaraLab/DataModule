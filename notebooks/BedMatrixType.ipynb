{
 "cells": [
  {
   "cell_type": "code",
   "execution_count": 11,
   "id": "black-imperial",
   "metadata": {},
   "outputs": [],
   "source": [
    "import pathlib\n",
    "import numpy as np\n",
    "np.set_printoptions(threshold=np.inf)\n",
    "\n",
    "from pandas_plink import read_plink1_bin\n",
    "from asmc_data_module import BedMatrixType"
   ]
  },
  {
   "cell_type": "markdown",
   "id": "equal-maker",
   "metadata": {},
   "source": [
    "## Create a BedMatrixType object from haps/samples/map files"
   ]
  },
  {
   "cell_type": "code",
   "execution_count": 4,
   "id": "handmade-stick",
   "metadata": {},
   "outputs": [],
   "source": [
    "data_dir = pathlib.Path(\"..\").resolve() / 'test' / 'data' / 'bedbimfam'\n",
    "\n",
    "bed_file = data_dir / 'real_example.bed'\n",
    "bim_file = data_dir / 'real_example.bim'\n",
    "fam_file = data_dir / 'real_example.fam'\n",
    "\n",
    "bed_mat = BedMatrixType.createFromBedBimFam(str(bed_file), str(bim_file), str(fam_file))"
   ]
  },
  {
   "cell_type": "code",
   "execution_count": 29,
   "id": "separate-master",
   "metadata": {},
   "outputs": [
    {
     "data": {
      "text/plain": [
       "array([ 2.,  2.,  1.,  2.,  2.,  2.,  2.,  2.,  1.,  1.,  2.,  2.,  1.,\n",
       "        1.,  2.,  1.,  2.,  1.,  2.,  2.,  1.,  1.,  1.,  2.,  2.,  2.,\n",
       "        1.,  2.,  1.,  1.,  1.,  2.,  2.,  2.,  2.,  1.,  2.,  1.,  2.,\n",
       "        2.,  1., nan,  2.,  1.,  2.,  1.,  2.,  1.,  2.,  2.],\n",
       "      dtype=float32)"
      ]
     },
     "execution_count": 29,
     "metadata": {},
     "output_type": "execute_result"
    }
   ],
   "source": [
    "G = read_plink1_bin(str(bed_file), str(bim_file), str(fam_file), verbose=False)\n",
    "np.nansum(G.values[:,0])\n",
    "G.values[:,0]"
   ]
  },
  {
   "cell_type": "code",
   "execution_count": null,
   "id": "asian-revelation",
   "metadata": {},
   "outputs": [],
   "source": []
  }
 ],
 "metadata": {
  "kernelspec": {
   "display_name": "Python 3",
   "language": "python",
   "name": "python3"
  },
  "language_info": {
   "codemirror_mode": {
    "name": "ipython",
    "version": 3
   },
   "file_extension": ".py",
   "mimetype": "text/x-python",
   "name": "python",
   "nbconvert_exporter": "python",
   "pygments_lexer": "ipython3",
   "version": "3.8.5"
  }
 },
 "nbformat": 4,
 "nbformat_minor": 5
}
