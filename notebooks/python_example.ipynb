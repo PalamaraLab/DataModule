{
 "cells": [
  {
   "cell_type": "code",
   "execution_count": 10,
   "id": "black-imperial",
   "metadata": {},
   "outputs": [],
   "source": [
    "from pandas_plink import read_plink1_bin\n",
    "\n",
    "from asmc_data_module import BedMatrixType\n",
    "\n",
    "import sys\n",
    "import numpy as np\n",
    "# numpy.set_printoptions(threshold=sys.maxsize)\n",
    "\n",
    "import time"
   ]
  },
  {
   "cell_type": "code",
   "execution_count": 2,
   "id": "handmade-stick",
   "metadata": {},
   "outputs": [],
   "source": [
    "bedFile = \"/home/fergus/GitRepos/PalamaraLab/plink/data/bedbimfam/chr.merge.bed\"\n",
    "bimFile = \"/home/fergus/GitRepos/PalamaraLab/plink/data/bedbimfam/chr.merge.bim\"\n",
    "famFile = \"/home/fergus/GitRepos/PalamaraLab/plink/data/bedbimfam/chr.merge.fam\""
   ]
  },
  {
   "cell_type": "code",
   "execution_count": 8,
   "id": "educated-financing",
   "metadata": {},
   "outputs": [
    {
     "name": "stdout",
     "output_type": "stream",
     "text": [
      "###\n",
      "Reading bed:     430 ms\n",
      "Reading bim:     923 ms\n",
      "Reading fam:       0 ms\n",
      "Writing frq:     841 ms\n",
      "###\n",
      "\n",
      "2.21 s\n"
     ]
    }
   ],
   "source": [
    "t_cpp = time.time()\n",
    "\n",
    "bedMatrix = BedMatrixType.createFromBedBimFam(bedFile, bimFile, famFile)\n",
    "bedMatrix.writeFrequencies(\"/home/fergus/GitRepos/PalamaraLab/plink/data/bedbimfam/cpp_from_notebook.frq\")\n",
    "print(bedMatrix.printTiming())\n",
    "\n",
    "print(f\"{time.time() - t_cpp:.3} s\")"
   ]
  },
  {
   "cell_type": "code",
   "execution_count": 16,
   "id": "separate-master",
   "metadata": {},
   "outputs": [
    {
     "name": "stdout",
     "output_type": "stream",
     "text": [
      "(1980837,)\n",
      "10.5 s\n"
     ]
    }
   ],
   "source": [
    "t_py = time.time()\n",
    "\n",
    "G = read_plink1_bin(bedFile, bimFile, famFile, verbose=False)\n",
    "vals = G.values\n",
    "\n",
    "frq = np.nanmean(vals, axis=0)\n",
    "print(np.shape(frq))\n",
    "\n",
    "with open(\"/home/fergus/GitRepos/PalamaraLab/plink/data/bedbimfam/py_from_notebook.frq\", 'w') as f:\n",
    "    f.write(' CHR           SNP   A1   A2          MAF  NCHROBS\\n')\n",
    "    \n",
    "    for i in range(len(frq)):\n",
    "        f.write(f'  1        sdfsdfsdfsdf  1  2     {frq[i]}  200\\n')\n",
    "\n",
    "print(f\"{time.time() - t_py:.3} s\")"
   ]
  },
  {
   "cell_type": "code",
   "execution_count": null,
   "id": "asian-revelation",
   "metadata": {},
   "outputs": [],
   "source": []
  }
 ],
 "metadata": {
  "kernelspec": {
   "display_name": "Python 3",
   "language": "python",
   "name": "python3"
  },
  "language_info": {
   "codemirror_mode": {
    "name": "ipython",
    "version": 3
   },
   "file_extension": ".py",
   "mimetype": "text/x-python",
   "name": "python",
   "nbconvert_exporter": "python",
   "pygments_lexer": "ipython3",
   "version": "3.8.5"
  }
 },
 "nbformat": 4,
 "nbformat_minor": 5
}
